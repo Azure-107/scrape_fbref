{
  "nbformat": 4,
  "nbformat_minor": 0,
  "metadata": {
    "colab": {
      "name": "league_data_outfield_players.ipynb",
      "provenance": [],
      "collapsed_sections": [],
      "include_colab_link": true
    },
    "kernelspec": {
      "name": "python3",
      "display_name": "Python 3"
    }
  },
  "cells": [
    {
      "cell_type": "markdown",
      "metadata": {
        "id": "view-in-github",
        "colab_type": "text"
      },
      "source": [
        "<a href=\"https://colab.research.google.com/github/Azure-107/scrape_fbref/blob/main/league_data_outfield_players.ipynb\" target=\"_parent\"><img src=\"https://colab.research.google.com/assets/colab-badge.svg\" alt=\"Open In Colab\"/></a>"
      ]
    },
    {
      "cell_type": "code",
      "metadata": {
        "id": "WKABFO7mMVWl"
      },
      "source": [
        "#standard(stats)\r\n",
        "stats = [\"player\",\"nationality\",\"position\",\"squad\",\"age\",\"birth_year\",\"games\",\"games_starts\",\"minutes\",\"goals\",\"assists\",\"pens_made\",\"pens_att\",\"cards_yellow\",\"cards_red\",\"goals_per90\",\"assists_per90\",\"goals_assists_per90\",\"goals_pens_per90\",\"goals_assists_pens_per90\",\"xg\",\"npxg\",\"xa\",\"xg_per90\",\"xa_per90\",\"xg_xa_per90\",\"npxg_per90\",\"npxg_xa_per90\"]\r\n",
        "##missing minute_90s (after minutes)\r\n",
        "stats3 = [\"players_used\",\"possession\",\"games\",\"games_starts\",\"minutes\",\"goals\",\"assists\",\"pens_made\",\"pens_att\",\"cards_yellow\",\"cards_red\",\"goals_per90\",\"assists_per90\",\"goals_assists_per90\",\"goals_pens_per90\",\"goals_assists_pens_per90\",\"xg\",\"npxg\",\"xa\",\"xg_per90\",\"xa_per90\",\"xg_xa_per90\",\"npxg_per90\",\"npxg_xa_per90\"] \r\n",
        "#goalkeeping(keepers)\r\n",
        "keepers = [\"player\",\"nationality\",\"position\",\"squad\",\"age\",\"birth_year\",\"games_gk\",\"games_starts_gk\",\"minutes_gk\",\"minutes_90s\",\"goals_against_gk\",\"goals_against_per90_gk\",\"shots_on_target_against\",\"saves\",\"save_pct\",\"wins_gk\",\"draws_gk\",\"losses_gk\",\"clean_sheets\",\"clean_sheets_pct\",\"pens_att_gk\",\"pens_allowed\",\"pens_saved\",\"pens_missed_gk\"]\r\n",
        "keepers3 = [\"players_used\",\"games_gk\",\"games_starts_gk\",\"minutes_gk\",\"goals_against_gk\",\"goals_against_per90_gk\",\"shots_on_target_against\",\"saves\",\"save_pct\",\"wins_gk\",\"draws_gk\",\"losses_gk\",\"clean_sheets\",\"clean_sheets_pct\",\"pens_att_gk\",\"pens_allowed\",\"pens_saved\",\"pens_missed_gk\"]\r\n",
        "#advance goalkeeping(keepersadv)\r\n",
        "keepersadv = [\"player\",\"nationality\",\"position\",\"squad\",\"age\",\"birth_year\",\"goals_against_gk\",\"pens_allowed\",\"free_kick_goals_against_gk\",\"corner_kick_goals_against_gk\",\"own_goals_against_gk\",\"psxg_gk\",\"psnpxg_per_shot_on_target_against\",\"psxg_net_gk\",\"psxg_net_per90_gk\",\"passes_completed_launched_gk\",\"passes_launched_gk\",\"passes_pct_launched_gk\",\"passes_gk\",\"passes_throws_gk\",\"pct_passes_launched_gk\",\"passes_length_avg_gk\",\"goal_kicks\",\"pct_goal_kicks_launched\",\"goal_kick_length_avg\",\"crosses_gk\",\"crosses_stopped_gk\",\"crosses_stopped_pct_gk\",\"def_actions_outside_pen_area_gk\",\"def_actions_outside_pen_area_per90_gk\",\"avg_distance_def_actions_gk\"]\r\n",
        "keepersadv2 = [\"minutes_90s\",\"goals_against_gk\",\"pens_allowed\",\"free_kick_goals_against_gk\",\"corner_kick_goals_against_gk\",\"own_goals_against_gk\",\"psxg_gk\",\"psnpxg_per_shot_on_target_against\",\"psxg_net_gk\",\"psxg_net_per90_gk\",\"passes_completed_launched_gk\",\"passes_launched_gk\",\"passes_pct_launched_gk\",\"passes_gk\",\"passes_throws_gk\",\"pct_passes_launched_gk\",\"passes_length_avg_gk\",\"goal_kicks\",\"pct_goal_kicks_launched\",\"goal_kick_length_avg\",\"crosses_gk\",\"crosses_stopped_gk\",\"crosses_stopped_pct_gk\",\"def_actions_outside_pen_area_gk\",\"def_actions_outside_pen_area_per90_gk\",\"avg_distance_def_actions_gk\"]\r\n",
        "#shooting(shooting)\r\n",
        "shooting = [\"player\",\"nationality\",\"position\",\"squad\",\"age\",\"birth_year\",\"minutes_90s\",\"goals\",\"pens_made\",\"pens_att\",\"shots_total\",\"shots_on_target\",\"shots_free_kicks\",\"shots_on_target_pct\",\"shots_total_per90\",\"shots_on_target_per90\",\"goals_per_shot\",\"goals_per_shot_on_target\",\"xg\",\"npxg\",\"npxg_per_shot\",\"xg_net\",\"npxg_net\"]\r\n",
        "shooting2 = [\"minutes_90s\",\"goals\",\"pens_made\",\"pens_att\",\"shots_total\",\"shots_on_target\",\"shots_free_kicks\",\"shots_on_target_pct\",\"shots_total_per90\",\"shots_on_target_per90\",\"goals_per_shot\",\"goals_per_shot_on_target\",\"xg\",\"npxg\",\"npxg_per_shot\",\"xg_net\",\"npxg_net\"]\r\n",
        "shooting3 = [\"goals\",\"pens_made\",\"pens_att\",\"shots_total\",\"shots_on_target\",\"shots_free_kicks\",\"shots_on_target_pct\",\"shots_total_per90\",\"shots_on_target_per90\",\"goals_per_shot\",\"goals_per_shot_on_target\",\"xg\",\"npxg\",\"npxg_per_shot\",\"xg_net\",\"npxg_net\"]\r\n",
        "#passing(passing)\r\n",
        "passing = [\"player\",\"nationality\",\"position\",\"squad\",\"age\",\"birth_year\",\"minutes_90s\",\"passes_completed\",\"passes\",\"passes_pct\",\"passes_total_distance\",\"passes_progressive_distance\",\"passes_completed_short\",\"passes_short\",\"passes_pct_short\",\"passes_completed_medium\",\"passes_medium\",\"passes_pct_medium\",\"passes_completed_long\",\"passes_long\",\"passes_pct_long\",\"assists\",\"xa\",\"xa_net\",\"assisted_shots\",\"passes_into_final_third\",\"passes_into_penalty_area\",\"crosses_into_penalty_area\",\"progressive_passes\"]\r\n",
        "passing2 = [\"passes_completed\",\"passes\",\"passes_pct\",\"passes_total_distance\",\"passes_progressive_distance\",\"passes_completed_short\",\"passes_short\",\"passes_pct_short\",\"passes_completed_medium\",\"passes_medium\",\"passes_pct_medium\",\"passes_completed_long\",\"passes_long\",\"passes_pct_long\",\"assists\",\"xa\",\"xa_net\",\"assisted_shots\",\"passes_into_final_third\",\"passes_into_penalty_area\",\"crosses_into_penalty_area\",\"progressive_passes\"]\r\n",
        "#passtypes(passing_types)\r\n",
        "passing_types = [\"player\",\"nationality\",\"position\",\"squad\",\"age\",\"birth_year\",\"minutes_90s\",\"passes\",\"passes_live\",\"passes_dead\",\"passes_free_kicks\",\"through_balls\",\"passes_pressure\",\"passes_switches\",\"crosses\",\"corner_kicks\",\"corner_kicks_in\",\"corner_kicks_out\",\"corner_kicks_straight\",\"passes_ground\",\"passes_low\",\"passes_high\",\"passes_left_foot\",\"passes_right_foot\",\"passes_head\",\"throw_ins\",\"passes_other_body\",\"passes_completed\",\"passes_offsides\",\"passes_oob\",\"passes_intercepted\",\"passes_blocked\"]\r\n",
        "passing_types2 = [\"passes\",\"passes_live\",\"passes_dead\",\"passes_free_kicks\",\"through_balls\",\"passes_pressure\",\"passes_switches\",\"crosses\",\"corner_kicks\",\"corner_kicks_in\",\"corner_kicks_out\",\"corner_kicks_straight\",\"passes_ground\",\"passes_low\",\"passes_high\",\"passes_left_foot\",\"passes_right_foot\",\"passes_head\",\"throw_ins\",\"passes_other_body\",\"passes_completed\",\"passes_offsides\",\"passes_oob\",\"passes_intercepted\",\"passes_blocked\"]\r\n",
        "#goal and shot creation(gca)\r\n",
        "gca = [\"player\",\"nationality\",\"position\",\"squad\",\"age\",\"birth_year\",\"minutes_90s\",\"sca\",\"sca_per90\",\"sca_passes_live\",\"sca_passes_dead\",\"sca_dribbles\",\"sca_shots\",\"sca_fouled\",\"gca\",\"gca_per90\",\"gca_passes_live\",\"gca_passes_dead\",\"gca_dribbles\",\"gca_shots\",\"gca_fouled\",\"gca_og_for\"]\r\n",
        "gca2 = [\"sca\",\"sca_per90\",\"sca_passes_live\",\"sca_passes_dead\",\"sca_dribbles\",\"sca_shots\",\"sca_fouled\",\"gca\",\"gca_per90\",\"gca_passes_live\",\"gca_passes_dead\",\"gca_dribbles\",\"gca_shots\",\"gca_fouled\",\"gca_og_for\"]\r\n",
        "#defensive actions(defense)\r\n",
        "defense = [\"player\",\"nationality\",\"position\",\"squad\",\"age\",\"birth_year\",\"minutes_90s\",\"tackles\",\"tackles_won\",\"tackles_def_3rd\",\"tackles_mid_3rd\",\"tackles_att_3rd\",\"dribble_tackles\",\"dribbles_vs\",\"dribble_tackles_pct\",\"dribbled_past\",\"pressures\",\"pressure_regains\",\"pressure_regain_pct\",\"pressures_def_3rd\",\"pressures_mid_3rd\",\"pressures_att_3rd\",\"blocks\",\"blocked_shots\",\"blocked_shots_saves\",\"blocked_passes\",\"interceptions\",\"clearances\",\"errors\"]\r\n",
        "defense2 = [\"tackles\",\"tackles_won\",\"tackles_def_3rd\",\"tackles_mid_3rd\",\"tackles_att_3rd\",\"dribble_tackles\",\"dribbles_vs\",\"dribble_tackles_pct\",\"dribbled_past\",\"pressures\",\"pressure_regains\",\"pressure_regain_pct\",\"pressures_def_3rd\",\"pressures_mid_3rd\",\"pressures_att_3rd\",\"blocks\",\"blocked_shots\",\"blocked_shots_saves\",\"blocked_passes\",\"interceptions\",\"clearances\",\"errors\"]\r\n",
        "#possession(possession)\r\n",
        "possession = [\"player\",\"nationality\",\"position\",\"squad\",\"age\",\"birth_year\",\"minutes_90s\",\"touches\",\"touches_def_pen_area\",\"touches_def_3rd\",\"touches_mid_3rd\",\"touches_att_3rd\",\"touches_att_pen_area\",\"touches_live_ball\",\"dribbles_completed\",\"dribbles\",\"dribbles_completed_pct\",\"players_dribbled_past\",\"nutmegs\",\"carries\",\"carry_distance\",\"carry_progressive_distance\",\"pass_targets\",\"passes_received\",\"passes_received_pct\",\"miscontrols\",\"dispossessed\"]\r\n",
        "possession2 = [\"touches\",\"touches_def_pen_area\",\"touches_def_3rd\",\"touches_mid_3rd\",\"touches_att_3rd\",\"touches_att_pen_area\",\"touches_live_ball\",\"dribbles_completed\",\"dribbles\",\"dribbles_completed_pct\",\"players_dribbled_past\",\"nutmegs\",\"carries\",\"carry_distance\",\"carry_progressive_distance\",\"pass_targets\",\"passes_received\",\"passes_received_pct\",\"miscontrols\",\"dispossessed\"]\r\n",
        "#playingtime(playingtime)\r\n",
        "playingtime = [\"player\",\"nationality\",\"position\",\"squad\",\"age\",\"birth_year\",\"minutes_90s\",\"games\",\"minutes\",\"minutes_per_game\",\"minutes_pct\",\"games_starts\",\"minutes_per_start\",\"games_subs\",\"minutes_per_sub\",\"unused_subs\",\"points_per_match\",\"on_goals_for\",\"on_goals_against\",\"plus_minus\",\"plus_minus_per90\",\"plus_minus_wowy\",\"on_xg_for\",\"on_xg_against\",\"xg_plus_minus\",\"xg_plus_minus_per90\",\"xg_plus_minus_wowy\"]\r\n",
        "playingtime2 = [\"games\",\"minutes\",\"minutes_per_game\",\"minutes_pct\",\"games_starts\",\"minutes_per_start\",\"games_subs\",\"minutes_per_sub\",\"unused_subs\",\"points_per_match\",\"on_goals_for\",\"on_goals_against\",\"plus_minus\",\"plus_minus_per90\",\"plus_minus_wowy\",\"on_xg_for\",\"on_xg_against\",\"xg_plus_minus\",\"xg_plus_minus_per90\",\"xg_plus_minus_wowy\"]\r\n",
        "#miscallaneous(misc)\r\n",
        "misc = [\"player\",\"nationality\",\"position\",\"squad\",\"age\",\"birth_year\",\"minutes_90s\",\"cards_yellow\",\"cards_red\",\"cards_yellow_red\",\"fouls\",\"fouled\",\"offsides\",\"crosses\",\"interceptions\",\"tackles_won\",\"pens_won\",\"pens_conceded\",\"own_goals\",\"ball_recoveries\",\"aerials_won\",\"aerials_lost\",\"aerials_won_pct\"]\r\n",
        "misc2 = [\"cards_yellow\",\"cards_red\",\"cards_yellow_red\",\"fouls\",\"fouled\",\"offsides\",\"crosses\",\"interceptions\",\"tackles_won\",\"pens_won\",\"pens_conceded\",\"own_goals\",\"ball_recoveries\",\"aerials_won\",\"aerials_lost\",\"aerials_won_pct\"]"
      ],
      "execution_count": 66,
      "outputs": []
    },
    {
      "cell_type": "code",
      "metadata": {
        "id": "etBqdnFGNy3u"
      },
      "source": [
        "import requests\r\n",
        "from bs4 import BeautifulSoup\r\n",
        "import pandas as pd\r\n",
        "import re\r\n",
        "import sys, getopt\r\n",
        "import openpyxl\r\n",
        "import pandas as pd \r\n",
        "from openpyxl.utils import get_column_letter\r\n",
        "#import csv"
      ],
      "execution_count": 67,
      "outputs": []
    },
    {
      "cell_type": "code",
      "metadata": {
        "id": "FTyWeely28Ez"
      },
      "source": [
        "# Get website info\r\n",
        "def get_tables(url):\r\n",
        "    res = requests.get(url)\r\n",
        "    comm = re.compile(\"<!--|-->\")\r\n",
        "    soup = BeautifulSoup(comm.sub(\"\",res.text),'lxml')\r\n",
        "    all_tables = soup.findAll(\"tbody\")\r\n",
        "    team_table = all_tables[0]\r\n",
        "    player_table = all_tables[1]\r\n",
        "    return player_table, team_table\r\n"
      ],
      "execution_count": 68,
      "outputs": []
    },
    {
      "cell_type": "code",
      "metadata": {
        "id": "TW689j1oN7QN"
      },
      "source": [
        "#parse outfield players data\r\n",
        "def get_frame(features, player_table):\r\n",
        "    pre_df_player = dict()\r\n",
        "    features_wanted_player = features\r\n",
        "    rows_player = player_table.find_all('tr')\r\n",
        "    for row in rows_player:\r\n",
        "        if(row.find('th',{\"scope\":\"row\"}) != None):\r\n",
        "    \r\n",
        "            for f in features_wanted_player:\r\n",
        "                cell = row.find(\"td\",{\"data-stat\": f})\r\n",
        "                a = cell.text.strip().encode()\r\n",
        "                text=a.decode(\"utf-8\")\r\n",
        "                if(text == ''):\r\n",
        "                    text = '0'\r\n",
        "                if((f!='player')&(f!='nationality')&(f!='position')&(f!='squad')&(f!='age')&(f!='birth_year')):\r\n",
        "                    text = float(text.replace(',',''))\r\n",
        "                if f in pre_df_player:\r\n",
        "                    pre_df_player[f].append(text)\r\n",
        "                else:\r\n",
        "                    pre_df_player[f] = [text]\r\n",
        "    df_player = pd.DataFrame.from_dict(pre_df_player)\r\n",
        "    return df_player\r\n",
        "\r\n",
        "def frame_for_category(category,top,end,features):\r\n",
        "    url = (top + category + end)\r\n",
        "    player_table, team_table = get_tables(url)\r\n",
        "    df_player = get_frame(features, player_table)\r\n",
        "    return df_player\r\n",
        "\r\n",
        "def get_outfield_data(top, end):\r\n",
        "    df1 = frame_for_category('stats',top,end,stats)\r\n",
        "    df2 = frame_for_category('shooting',top,end,shooting2)\r\n",
        "    df3 = frame_for_category('passing',top,end,passing2)\r\n",
        "    df4 = frame_for_category('passing_types',top,end,passing_types2)\r\n",
        "    df5 = frame_for_category('gca',top,end,gca2)\r\n",
        "    df6 = frame_for_category('defense',top,end,defense2)\r\n",
        "    df7 = frame_for_category('possession',top,end,possession2)\r\n",
        "    df8 = frame_for_category('misc',top,end,misc2)\r\n",
        "    df = pd.concat([df1, df2, df3, df4, df5, df6, df7, df8], axis=1)\r\n",
        "    df = df.loc[:,~df.columns.duplicated()]\r\n",
        "    return df"
      ],
      "execution_count": 69,
      "outputs": []
    },
    {
      "cell_type": "code",
      "metadata": {
        "id": "suqZaK1mX06W"
      },
      "source": [
        "# format outfiled players data sheet\r\n",
        "def format_new_sheet(new_sheet):\r\n",
        "    new_sheet_name = new_sheet + \".xlsx\"  \r\n",
        "    workbook2021=openpyxl.load_workbook(new_sheet_name)\r\n",
        "    worksheet2021=workbook2021.worksheets[0] \r\n",
        "    row1 = [\" \", \" \",  \" \", \" \", \" \", \" \", \" \", \"Playing Time\", \"Playing Time\", \"Playing Time\", \"Performance\", \"Performance\", \"Performance\", \"Performance\", \"Performance\", \"Per 90 Minutes\", \"Per 90 Minutes\", \"Per 90 Minutes\", \"Per 90 Minutes\", \"Per 90 Minutes\", \"Expected\", \"Expected\", \"Expected\", \"Per 90 Minutes\", \"Per 90 Minutes\", \"Per 90 Minutes\", \"Per 90 Minutes\", \"Per 90 Minutes\",\"Per 90 Minutes\", \" \", \"Standard\", \"Standard\", \"Standard\", \"Standard\", \"Standard\", \"Standard\", \"Standard\", \"Standard\", \"Expected\", \"Expected\", \"Expected\", \"Total\", \"Total\", \"Total\", \"Total\", \"Total\", \"Short\", \"Short\", \"Short\", \"Medium\", \"Medium\", \"Medium\", \"Long\", \"Long\", \"Long\", \" \", \" \",  \" \", \" \", \" \", \" \", \"Pass Types\", \"Pass Types\", \"Pass Types\", \"Pass Types\", \"Pass Types\", \"Pass Types\", \"Pass Types\", \"Pass Types\", \"Corner Kicks\", \"Corner Kicks\", \"Corner Kicks\", \"Height\", \"Height\", \"Height\", \"Body Parts\", \"Body Parts\", \"Body Parts\", \"Body Parts\", \"Body Parts\", \"Outcomes\", \"Outcomes\", \"Outcomes\", \"Outcomes\", \"SCA Types\", \"SCA Types\", \"SCA Types\", \"SCA Types\", \"SCA Types\", \"SCA Types\", \"GCA\", \"GCA Types\", \"GCA Types\", \"GCA Types\", \"GCA Types\", \"GCA Types\", \"GCA Types\", \"GCA Types\", \" \", \"Tackles\", \"Tackles\", \"Tackles\", \"Tackles\", \"Tackles\", \"Vs Dribbles\", \"Vs Dribbles\", \"Vs Dribbles\", \"Vs Dribbles\", \"Pressures\", \"Pressures\", \"Pressures\", \"Pressures\", \"Pressures\", \"Pressures\", \"Blocks\", \"Blocks\", \"Blocks\", \"Blocks\", \" \", \" \",  \" \", \"Touches\", \"Touches\", \"Touches\", \"Touches\", \"Touches\", \"Touches\", \"Touches\", \"Dribbles\", \"Dribbles\", \"Dribbles\", \"Dribbles\", \"Dribbles\", \"Carries\", \"Carries\", \"Carries\", \"Receiving\", \"Receiving\", \"Receiving\", \" \",  \" \", \"Performance\", \"Performance\", \"Performance\", \"Performance\", \"Performance\", \"Performance\", \"Performance\", \"Aerial Duels\", \"Aerial Duels\", \"Aerial Duels\", \"Aerial Duels\"]\r\n",
        "    row2 = [\"Rk\", \"Player\", \"Nation\", \"Pos\", \"Squad\", \"Age\", \"Born\", \"MP\", \"Starts\", \"Min\", \"Gls\", \"Ast\", \"PK\", \"PKatt\", \"CrdY\", \"CrdR\", \"Gls\", \"Ast\", \"G+A\", \"G-PK\", \"G+A-PK\", \"xG\", \"npxG\", \"xA\", \"xG\", \"xA\", \"xG+xA\", \"npxG\", \"npxG+xA\", \"90s\",\"Sh\", \"SoT\", \"FK\", \"SoT%\", \"Sh/90\", \"SoT/90\", \"G/Sh\", \"G/SoT\", \"npxG/Sh\", \"G-xG\",\"np:G-xG\", \"Cmp\", \"Att\", \"Cmp%\", \"TotDist\", \"PrgDist\", \"Cmp\", \"Att\", \"Cmp%\", \"Cmp\", \"Att\", \"Cmp%\", \"Cmp\", \"Att\", \"Cmp%\", \"A-xA\", \"KP\", \"1/3\", \"PPA\", \"CrsPA\", \"Prog\", \"Live\", \"Dead\", \"FK\", \"TB\", \"Press\", \"Sw\", \"Crs\", \"CK\", \"In\", \"Out\", \"Str\", \"Ground\", \"Low\", \"High\", \"Left\", \"Right\", \"Head\", \"TI\", \"Other\", \"Off\", \"Out\", \"Int\", \"Blocks\", \"SCA90\", \"PassLive\", \"PassDead\", \"Drib\", \"Sh\", \"Fld\", \"GCA\", \"GCA90\", \"PassLive\", \"PassDead\", \"Drib\", \"Sh\", \"Fld\", \"Def\", \"OG\", \"Tkl\", \"TklW\", \"Def 3rd\", \"Mid 3rd\", \"Att 3rd\", \"Tkl\", \"Att\", \"Tkl%\", \"Past\", \"Press\", \"Succ\", \"%\", \"Def 3rd\", \"Mid 3rd\", \"Att 3rd\", \"Blocks\", \"Sh\", \"ShSv\",\"Pass\", \"Int\", \"Clr\", \"Err\", \"Touches\", \"Def Pen\", \"Def 3rd\", \"Mid 3rd\", \"Att 3rd\", \"Att Pen\", \"Live\", \"Succ\", \"Att\", \"Succ%\", \"#Pl\", \"Megs\", \"Carries\", \"TotDist\", \"PrgDist\", \"Targ\", \"Rec\", \"Rec%\", \"Miscon\", \"Dispos\", \"2CrdY\", \"Fls\", \"Fld\", \"Off\", \"PKwon\", \"PKcon\", \"OG\", \"Recov\", \"Won\", \"Lost\", \"Won%\"]    \r\n",
        "    #change title\r\n",
        "    for i in range(len(row1)):\r\n",
        "        if row1[i] == \" \":\r\n",
        "            combo = row2[i]\r\n",
        "        else:\r\n",
        "            combo = row2[i]+\" (\"+row1[i]+\")\"\r\n",
        "        worksheet2021.cell(1, i+1, combo)\r\n",
        "    \r\n",
        "    worksheet2021.delete_cols(1,1)       \r\n",
        "    worksheet2021.insert_rows(0)\r\n",
        "    for k in range(len(row1)-1):\r\n",
        "        worksheet2021.cell(1, k+1, str(k+1))\r\n",
        "        worksheet2021.column_dimensions[get_column_letter(k+1)].width = 20\r\n",
        "    \r\n",
        "    workbook2021.save(filename = new_sheet + \".xlsx\")"
      ],
      "execution_count": 70,
      "outputs": []
    },
    {
      "cell_type": "code",
      "metadata": {
        "id": "UHaHw2XS3JF5"
      },
      "source": [
        "#parse goalkeeper data\r\n",
        "def get_keeper_data(top,end):\r\n",
        "    df1 = frame_for_category('keepers',top,end,keepers)\r\n",
        "    df2 = frame_for_category('keepersadv',top,end,keepersadv2)\r\n",
        "    df = pd.concat([df1, df2], axis=1)\r\n",
        "    df = df.loc[:,~df.columns.duplicated()]\r\n",
        "    return df"
      ],
      "execution_count": 71,
      "outputs": []
    },
    {
      "cell_type": "code",
      "metadata": {
        "id": "E5xcTBAN_vW1"
      },
      "source": [
        "#Parse team data\r\n",
        "def get_frame_team(features, team_table):\r\n",
        "    pre_df_squad = dict()\r\n",
        "    #Note: features does not contain squad name, it requires special treatment\r\n",
        "    features_wanted_squad = features\r\n",
        "    rows_squad = team_table.find_all('tr')\r\n",
        "    for row in rows_squad:\r\n",
        "        if(row.find('th',{\"scope\":\"row\"}) != None):\r\n",
        "            name = row.find('th',{\"data-stat\":\"squad\"}).text.strip().encode().decode(\"utf-8\")\r\n",
        "            if 'squad' in pre_df_squad:\r\n",
        "                pre_df_squad['squad'].append(name)\r\n",
        "            else:\r\n",
        "                pre_df_squad['squad'] = [name]\r\n",
        "            for f in features_wanted_squad:\r\n",
        "                cell = row.find(\"td\",{\"data-stat\": f})\r\n",
        "                a = cell.text.strip().encode()\r\n",
        "                text=a.decode(\"utf-8\")\r\n",
        "                if(text == ''):\r\n",
        "                    text = '0'\r\n",
        "                if((f!='player')&(f!='nationality')&(f!='position')&(f!='squad')&(f!='age')&(f!='birth_year')):\r\n",
        "                    text = float(text.replace(',',''))\r\n",
        "                if f in pre_df_squad:\r\n",
        "                    pre_df_squad[f].append(text)\r\n",
        "                else:\r\n",
        "                    pre_df_squad[f] = [text]\r\n",
        "    df_squad = pd.DataFrame.from_dict(pre_df_squad)\r\n",
        "    return df_squad\r\n",
        "\r\n",
        "def frame_for_category_team(category,top,end,features):\r\n",
        "    url = (top + category + end)\r\n",
        "    player_table, team_table = get_tables(url)\r\n",
        "    df_team = get_frame_team(features, team_table)\r\n",
        "    return df_team\r\n",
        "\r\n",
        "def get_team_data(top,end):\r\n",
        "    df1 = frame_for_category_team('stats',top,end,stats3)\r\n",
        "    df2 = frame_for_category_team('keepers',top,end,keepers3)\r\n",
        "    df3 = frame_for_category_team('keepersadv',top,end,keepersadv2)\r\n",
        "    df4 = frame_for_category_team('shooting',top,end,shooting3)\r\n",
        "    df5 = frame_for_category_team('passing',top,end,passing2)\r\n",
        "    df6 = frame_for_category_team('passing_types',top,end,passing_types2)\r\n",
        "    df7 = frame_for_category_team('gca',top,end,gca2)\r\n",
        "    df8 = frame_for_category_team('defense',top,end,defense2)\r\n",
        "    df9 = frame_for_category_team('possession',top,end,possession2)\r\n",
        "    df10 = frame_for_category_team('misc',top,end,misc2)\r\n",
        "    df = pd.concat([df1, df2, df3, df4, df5, df6, df7, df8, df9, df10], axis=1)\r\n",
        "    df = df.loc[:,~df.columns.duplicated()]\r\n",
        "    return df"
      ],
      "execution_count": 72,
      "outputs": []
    },
    {
      "cell_type": "code",
      "metadata": {
        "id": "rbcxdHCke_JQ"
      },
      "source": [
        "def combine_worksheet (old_sheet, new_sheet):\r\n",
        "    \r\n",
        "    workbook2021=openpyxl.load_workbook(new_sheet)\r\n",
        "    ws2021=workbook2021.worksheets[0]    \r\n",
        "    workbook1920=openpyxl.load_workbook(old_sheet)\r\n",
        "    ws1920=workbook1920.worksheets[0]    \r\n",
        "    newl = ws2021.max_row   #starting from 1!\r\n",
        "    oldl = ws1920.max_row    \r\n",
        "    all_name = []\r\n",
        "    for i in range(oldl):\r\n",
        "        row = i+1\r\n",
        "        if row > 3:\r\n",
        "            name = ws1920.cell(row, 1).value\r\n",
        "            all_name.append(name)\r\n",
        "    \r\n",
        "    for j in range (newl+476):\r\n",
        "        rown = j+1\r\n",
        "        name = ws2021.cell(rown, 1).value\r\n",
        "        if name in all_name:\r\n",
        "            ind = all_name.index(name)\r\n",
        "            ws2021.insert_rows(rown+1)\r\n",
        "            new_row = ws1920[\"A\"+str(ind+4): \"EV\"+str(ind+4)]\r\n",
        "            for k in range(1,152):\r\n",
        "                if k == 1 or k == 3 or k == 5 or k == 6:\r\n",
        "                    ws2021.cell(rown+1, k, '-')\r\n",
        "                elif k == 2:\r\n",
        "                    ws2021.cell(rown+1, k, \"19-20\")\r\n",
        "                else: \r\n",
        "                    ws2021.cell(rown+1, k, new_row[0][k-1].value)\r\n",
        "    return workbook2021"
      ],
      "execution_count": 82,
      "outputs": []
    },
    {
      "cell_type": "markdown",
      "metadata": {
        "id": "jjS04ui2Yntp"
      },
      "source": [
        "# 操作方法\r\n",
        "\r\n",
        "进行任何操作之前，请将光标移动至本单元格。\r\n",
        "\r\n",
        "在上方菜单选择\"代码执行程序\" -> \"运行当前单元格之前的所有单元格\""
      ]
    },
    {
      "cell_type": "markdown",
      "metadata": {
        "id": "2alT-hGpZak1"
      },
      "source": [
        "# EPL"
      ]
    },
    {
      "cell_type": "markdown",
      "metadata": {
        "id": "EvNcP7aiNqnN"
      },
      "source": [
        "## 1）单独运行此单元格抓取最新本赛季数据，并生成表格 “EPL2021_外场球员.xlsx”\r\n",
        "\r\n",
        "\r\n",
        "运行完成后会显示 \"EPL2021_外场球员.xlsx\" generated! \r\n",
        "\r\n",
        "comming soon: 抓取最新数据，并生成表格“EPL2021_守门员.xlsx”, \"EPL2021_球队.xlsx\"\r\n",
        "\r\n"
      ]
    },
    {
      "cell_type": "code",
      "metadata": {
        "id": "lQVJlnN_OAky",
        "colab": {
          "base_uri": "https://localhost:8080/"
        },
        "outputId": "651552a0-cb29-4ed8-d801-230156261f5f"
      },
      "source": [
        "\r\n",
        "df_outfield_EPL = get_outfield_data('https://fbref.com/en/comps/9/','/Premier-League-Stats') \r\n",
        "df_outfield_EPL.to_excel(\"EPL2021_外场球员.xlsx\")\r\n",
        "format_new_sheet(\"EPL2021_外场球员\")\r\n",
        "print('\"EPL2021_外场球员.xlsx\" generated! ')\r\n",
        "\r\n",
        "#df_keeper_EPL = get_keeper_data('https://fbref.com/en/comps/9/','/Premier-League-Stats')\r\n",
        "#df_keeper_EPL.to_excel('EPL2021_守门员.xlsx')\r\n",
        "\r\n",
        "#df_team_EPL = get_team_data('https://fbref.com/en/comps/9/','/Premier-League-Stats')\r\n",
        "#df_team_EPL.to_excel('EPL2021_球队.xlsx')\r\n"
      ],
      "execution_count": 87,
      "outputs": [
        {
          "output_type": "stream",
          "text": [
            "\"EPL2021_外场球员.xlsx\" generated! \n"
          ],
          "name": "stdout"
        }
      ]
    },
    {
      "cell_type": "markdown",
      "metadata": {
        "id": "1TqPKbUMN__2"
      },
      "source": [
        "## 2）运行此单元格与19-20赛季表格合并，生成两赛季对比表格“EPL2021_外场球员_combine.xlsx”\r\n",
        "\r\n",
        "需先运行EPL 1)\r\n",
        "\r\n",
        "目前代码有待优化，运行速度较慢，需等待约3min。（点击运行后保持网页打开状态即可，不需要一直停留在此网页等待，程序完成运行后会显示 \"EPL2021_外场球员_combine.xlsx\" generated !）"
      ]
    },
    {
      "cell_type": "code",
      "metadata": {
        "colab": {
          "base_uri": "https://localhost:8080/"
        },
        "id": "SavSaNlfgrdH",
        "outputId": "e7cbf2f6-c786-4a63-b91c-f83c2eb2a5c3"
      },
      "source": [
        "# Fetch a single <1MB file using the raw GitHub URL.\n",
        "!curl --remote-name \\\n",
        "     -H 'Accept: application/vnd.github.v3.raw' \\\n",
        "     --location https://github.com/Azure-107/scrape_fbref/raw/main/1920_outfield_players.xlsx\n",
        "\n",
        "#combine sheets\n",
        "\n",
        "df_combined = combine_worksheet (\"1920_outfield_players.xlsx\", \"EPL2021_外场球员.xlsx\")\n",
        "df_combined.save(\"EPL2021_外场球员_combine.xlsx\")\n",
        "print('\"EPL2021_外场球员_combine.xlsx\" generated! ')"
      ],
      "execution_count": 88,
      "outputs": [
        {
          "output_type": "stream",
          "text": [
            "  % Total    % Received % Xferd  Average Speed   Time    Time     Time  Current\n",
            "                                 Dload  Upload   Total   Spent    Left  Speed\n",
            "100   154    0   154    0     0    455      0 --:--:-- --:--:-- --:--:--   455\n",
            "100 2052k  100 2052k    0     0  3639k      0 --:--:-- --:--:-- --:--:-- 3639k\n",
            "\"EPL2021_外场球员_combine.xlsx\" generated! \n"
          ],
          "name": "stdout"
        }
      ]
    },
    {
      "cell_type": "markdown",
      "metadata": {
        "id": "DAUbU1u0Nkyu"
      },
      "source": [
        "# La Liga\r\n",
        "\r\n",
        "操作方式同EPL"
      ]
    },
    {
      "cell_type": "markdown",
      "metadata": {
        "id": "fmoShap4kJ45"
      },
      "source": [
        "## 1）单独运行此单元格抓取最新本赛季数据，并生成表格 “LaLiga2021_外场球员.xlsx”\r\n",
        "\r\n",
        "运行完成后会显示 \"LaLiga2021_外场球员.xlsx\" generated! \r\n",
        "\r\n",
        "comming soon: 抓取最新数据，并生成表格“LaLiga2021_守门员.xlsx”, \"LaLiga2021_球队.xlsx\""
      ]
    },
    {
      "cell_type": "code",
      "metadata": {
        "id": "pemlTgDFRo_O",
        "colab": {
          "base_uri": "https://localhost:8080/"
        },
        "outputId": "ff70c46a-2c41-49ed-c0d6-876939b03d79"
      },
      "source": [
        "#La Liga\r\n",
        "df_outfield_Liga = get_outfield_data('https://fbref.com/en/comps/12/','/La-Liga-Stats')\r\n",
        "df_outfield_Liga.to_excel('LaLiga2021_外场球员.xlsx')\r\n",
        "format_new_sheet(\"LaLiga2021_外场球员\")\r\n",
        "print('\"EPL2021_外场球员.xlsx\" generated! ')\r\n",
        "\r\n",
        "#df_keeper_Liga = get_keeper_data('https://fbref.com/en/comps/12/','/La-Liga-Stats')\r\n",
        "#df_keeper_Liga.to_excel('La_Liga2021_守门员.xlsx')\r\n",
        "\r\n",
        "#df_team_Liga = get_team_data('https://fbref.com/en/comps/12/','/La-Liga-Stats')\r\n",
        "#df_team_Liga.to_excel('La_Liga2021_球队。xlsx')"
      ],
      "execution_count": 89,
      "outputs": [
        {
          "output_type": "stream",
          "text": [
            "\"EPL2021_外场球员.xlsx\" generated! \n"
          ],
          "name": "stdout"
        }
      ]
    },
    {
      "cell_type": "markdown",
      "metadata": {
        "id": "BshQLdjUlZuY"
      },
      "source": [
        "## Coming Soon: La Liga 两赛季比较表格合并"
      ]
    },
    {
      "cell_type": "markdown",
      "metadata": {
        "id": "13ozL8BElPZ7"
      },
      "source": [
        "# Coming Soon:  德甲，意甲，法甲"
      ]
    }
  ]
}