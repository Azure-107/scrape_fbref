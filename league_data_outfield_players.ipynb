{
  "nbformat": 4,
  "nbformat_minor": 0,
  "metadata": {
    "colab": {
      "name": "league_data_outfield_players.ipynb",
      "provenance": [],
      "collapsed_sections": [],
      "toc_visible": true,
      "include_colab_link": true
    },
    "kernelspec": {
      "name": "python3",
      "display_name": "Python 3"
    }
  },
  "cells": [
    {
      "cell_type": "markdown",
      "metadata": {
        "id": "view-in-github",
        "colab_type": "text"
      },
      "source": [
        "<a href=\"https://colab.research.google.com/github/Azure-107/scrape_fbref/blob/main/league_data_outfield_players.ipynb\" target=\"_parent\"><img src=\"https://colab.research.google.com/assets/colab-badge.svg\" alt=\"Open In Colab\"/></a>"
      ]
    },
    {
      "cell_type": "code",
      "metadata": {
        "id": "WKABFO7mMVWl"
      },
      "source": [
        "#standard(stats)\n",
        "stats = [\"player\",\"nationality\",\"position\",\"squad\",\"age\",\"birth_year\",\"games\",\"games_starts\",\"minutes\",\"goals\",\"assists\",\"pens_made\",\"pens_att\",\"cards_yellow\",\"cards_red\",\"goals_per90\",\"assists_per90\",\"goals_assists_per90\",\"goals_pens_per90\",\"goals_assists_pens_per90\",\"xg\",\"npxg\",\"xa\",\"xg_per90\",\"xa_per90\",\"xg_xa_per90\",\"npxg_per90\",\"npxg_xa_per90\"]\n",
        "##missing minute_90s (after minutes)\n",
        "stats3 = [\"players_used\",\"possession\",\"games\",\"games_starts\",\"minutes\",\"goals\",\"assists\",\"pens_made\",\"pens_att\",\"cards_yellow\",\"cards_red\",\"goals_per90\",\"assists_per90\",\"goals_assists_per90\",\"goals_pens_per90\",\"goals_assists_pens_per90\",\"xg\",\"npxg\",\"xa\",\"xg_per90\",\"xa_per90\",\"xg_xa_per90\",\"npxg_per90\",\"npxg_xa_per90\"] \n",
        "#goalkeeping(keepers)\n",
        "keepers = [\"player\",\"nationality\",\"position\",\"squad\",\"age\",\"birth_year\",\"games_gk\",\"games_starts_gk\",\"minutes_gk\",\"minutes_90s\",\"goals_against_gk\",\"goals_against_per90_gk\",\"shots_on_target_against\",\"saves\",\"save_pct\",\"wins_gk\",\"draws_gk\",\"losses_gk\",\"clean_sheets\",\"clean_sheets_pct\",\"pens_att_gk\",\"pens_allowed\",\"pens_saved\",\"pens_missed_gk\"]\n",
        "keepers3 = [\"players_used\",\"games_gk\",\"games_starts_gk\",\"minutes_gk\",\"goals_against_gk\",\"goals_against_per90_gk\",\"shots_on_target_against\",\"saves\",\"save_pct\",\"wins_gk\",\"draws_gk\",\"losses_gk\",\"clean_sheets\",\"clean_sheets_pct\",\"pens_att_gk\",\"pens_allowed\",\"pens_saved\",\"pens_missed_gk\"]\n",
        "#advance goalkeeping(keepersadv)\n",
        "keepersadv = [\"player\",\"nationality\",\"position\",\"squad\",\"age\",\"birth_year\",\"goals_against_gk\",\"pens_allowed\",\"free_kick_goals_against_gk\",\"corner_kick_goals_against_gk\",\"own_goals_against_gk\",\"psxg_gk\",\"psnpxg_per_shot_on_target_against\",\"psxg_net_gk\",\"psxg_net_per90_gk\",\"passes_completed_launched_gk\",\"passes_launched_gk\",\"passes_pct_launched_gk\",\"passes_gk\",\"passes_throws_gk\",\"pct_passes_launched_gk\",\"passes_length_avg_gk\",\"goal_kicks\",\"pct_goal_kicks_launched\",\"goal_kick_length_avg\",\"crosses_gk\",\"crosses_stopped_gk\",\"crosses_stopped_pct_gk\",\"def_actions_outside_pen_area_gk\",\"def_actions_outside_pen_area_per90_gk\",\"avg_distance_def_actions_gk\"]\n",
        "keepersadv2 = [\"minutes_90s\",\"goals_against_gk\",\"pens_allowed\",\"free_kick_goals_against_gk\",\"corner_kick_goals_against_gk\",\"own_goals_against_gk\",\"psxg_gk\",\"psnpxg_per_shot_on_target_against\",\"psxg_net_gk\",\"psxg_net_per90_gk\",\"passes_completed_launched_gk\",\"passes_launched_gk\",\"passes_pct_launched_gk\",\"passes_gk\",\"passes_throws_gk\",\"pct_passes_launched_gk\",\"passes_length_avg_gk\",\"goal_kicks\",\"pct_goal_kicks_launched\",\"goal_kick_length_avg\",\"crosses_gk\",\"crosses_stopped_gk\",\"crosses_stopped_pct_gk\",\"def_actions_outside_pen_area_gk\",\"def_actions_outside_pen_area_per90_gk\",\"avg_distance_def_actions_gk\"]\n",
        "#shooting(shooting)\n",
        "shooting = [\"player\",\"nationality\",\"position\",\"squad\",\"age\",\"birth_year\",\"minutes_90s\",\"goals\",\"pens_made\",\"pens_att\",\"shots_total\",\"shots_on_target\",\"shots_free_kicks\",\"shots_on_target_pct\",\"shots_total_per90\",\"shots_on_target_per90\",\"goals_per_shot\",\"goals_per_shot_on_target\",\"xg\",\"npxg\",\"npxg_per_shot\",\"xg_net\",\"npxg_net\"]\n",
        "shooting2 = [\"minutes_90s\",\"goals\",\"pens_made\",\"pens_att\",\"shots_total\",\"shots_on_target\",\"shots_free_kicks\",\"shots_on_target_pct\",\"shots_total_per90\",\"shots_on_target_per90\",\"goals_per_shot\",\"goals_per_shot_on_target\",\"xg\",\"npxg\",\"npxg_per_shot\",\"xg_net\",\"npxg_net\"]\n",
        "shooting3 = [\"goals\",\"pens_made\",\"pens_att\",\"shots_total\",\"shots_on_target\",\"shots_free_kicks\",\"shots_on_target_pct\",\"shots_total_per90\",\"shots_on_target_per90\",\"goals_per_shot\",\"goals_per_shot_on_target\",\"xg\",\"npxg\",\"npxg_per_shot\",\"xg_net\",\"npxg_net\"]\n",
        "#passing(passing)\n",
        "passing = [\"player\",\"nationality\",\"position\",\"squad\",\"age\",\"birth_year\",\"minutes_90s\",\"passes_completed\",\"passes\",\"passes_pct\",\"passes_total_distance\",\"passes_progressive_distance\",\"passes_completed_short\",\"passes_short\",\"passes_pct_short\",\"passes_completed_medium\",\"passes_medium\",\"passes_pct_medium\",\"passes_completed_long\",\"passes_long\",\"passes_pct_long\",\"assists\",\"xa\",\"xa_net\",\"assisted_shots\",\"passes_into_final_third\",\"passes_into_penalty_area\",\"crosses_into_penalty_area\",\"progressive_passes\"]\n",
        "passing2 = [\"passes_completed\",\"passes\",\"passes_pct\",\"passes_total_distance\",\"passes_progressive_distance\",\"passes_completed_short\",\"passes_short\",\"passes_pct_short\",\"passes_completed_medium\",\"passes_medium\",\"passes_pct_medium\",\"passes_completed_long\",\"passes_long\",\"passes_pct_long\",\"assists\",\"xa\",\"xa_net\",\"assisted_shots\",\"passes_into_final_third\",\"passes_into_penalty_area\",\"crosses_into_penalty_area\",\"progressive_passes\"]\n",
        "#passtypes(passing_types)\n",
        "passing_types = [\"player\",\"nationality\",\"position\",\"squad\",\"age\",\"birth_year\",\"minutes_90s\",\"passes\",\"passes_live\",\"passes_dead\",\"passes_free_kicks\",\"through_balls\",\"passes_pressure\",\"passes_switches\",\"crosses\",\"corner_kicks\",\"corner_kicks_in\",\"corner_kicks_out\",\"corner_kicks_straight\",\"passes_ground\",\"passes_low\",\"passes_high\",\"passes_left_foot\",\"passes_right_foot\",\"passes_head\",\"throw_ins\",\"passes_other_body\",\"passes_completed\",\"passes_offsides\",\"passes_oob\",\"passes_intercepted\",\"passes_blocked\"]\n",
        "passing_types2 = [\"passes\",\"passes_live\",\"passes_dead\",\"passes_free_kicks\",\"through_balls\",\"passes_pressure\",\"passes_switches\",\"crosses\",\"corner_kicks\",\"corner_kicks_in\",\"corner_kicks_out\",\"corner_kicks_straight\",\"passes_ground\",\"passes_low\",\"passes_high\",\"passes_left_foot\",\"passes_right_foot\",\"passes_head\",\"throw_ins\",\"passes_other_body\",\"passes_completed\",\"passes_offsides\",\"passes_oob\",\"passes_intercepted\",\"passes_blocked\"]\n",
        "#goal and shot creation(gca)\n",
        "gca = [\"player\",\"nationality\",\"position\",\"squad\",\"age\",\"birth_year\",\"minutes_90s\",\"sca\",\"sca_per90\",\"sca_passes_live\",\"sca_passes_dead\",\"sca_dribbles\",\"sca_shots\",\"sca_fouled\",\"gca\",\"gca_per90\",\"gca_passes_live\",\"gca_passes_dead\",\"gca_dribbles\",\"gca_shots\",\"gca_fouled\",\"gca_og_for\"]\n",
        "gca2 = [\"sca\",\"sca_per90\",\"sca_passes_live\",\"sca_passes_dead\",\"sca_dribbles\",\"sca_shots\",\"sca_fouled\",\"gca\",\"gca_per90\",\"gca_passes_live\",\"gca_passes_dead\",\"gca_dribbles\",\"gca_shots\",\"gca_fouled\",\"gca_og_for\"]\n",
        "#defensive actions(defense)\n",
        "defense = [\"player\",\"nationality\",\"position\",\"squad\",\"age\",\"birth_year\",\"minutes_90s\",\"tackles\",\"tackles_won\",\"tackles_def_3rd\",\"tackles_mid_3rd\",\"tackles_att_3rd\",\"dribble_tackles\",\"dribbles_vs\",\"dribble_tackles_pct\",\"dribbled_past\",\"pressures\",\"pressure_regains\",\"pressure_regain_pct\",\"pressures_def_3rd\",\"pressures_mid_3rd\",\"pressures_att_3rd\",\"blocks\",\"blocked_shots\",\"blocked_shots_saves\",\"blocked_passes\",\"interceptions\",\"clearances\",\"errors\"]\n",
        "defense2 = [\"tackles\",\"tackles_won\",\"tackles_def_3rd\",\"tackles_mid_3rd\",\"tackles_att_3rd\",\"dribble_tackles\",\"dribbles_vs\",\"dribble_tackles_pct\",\"dribbled_past\",\"pressures\",\"pressure_regains\",\"pressure_regain_pct\",\"pressures_def_3rd\",\"pressures_mid_3rd\",\"pressures_att_3rd\",\"blocks\",\"blocked_shots\",\"blocked_shots_saves\",\"blocked_passes\",\"interceptions\",\"clearances\",\"errors\"]\n",
        "#possession(possession)\n",
        "possession = [\"player\",\"nationality\",\"position\",\"squad\",\"age\",\"birth_year\",\"minutes_90s\",\"touches\",\"touches_def_pen_area\",\"touches_def_3rd\",\"touches_mid_3rd\",\"touches_att_3rd\",\"touches_att_pen_area\",\"touches_live_ball\",\"dribbles_completed\",\"dribbles\",\"dribbles_completed_pct\",\"players_dribbled_past\",\"nutmegs\",\"carries\",\"carry_distance\",\"carry_progressive_distance\",\"pass_targets\",\"passes_received\",\"passes_received_pct\",\"miscontrols\",\"dispossessed\"]\n",
        "possession2 = [\"touches\",\"touches_def_pen_area\",\"touches_def_3rd\",\"touches_mid_3rd\",\"touches_att_3rd\",\"touches_att_pen_area\",\"touches_live_ball\",\"dribbles_completed\",\"dribbles\",\"dribbles_completed_pct\",\"players_dribbled_past\",\"nutmegs\",\"carries\",\"carry_distance\",\"carry_progressive_distance\",\"pass_targets\",\"passes_received\",\"passes_received_pct\",\"miscontrols\",\"dispossessed\"]\n",
        "#playingtime(playingtime)\n",
        "playingtime = [\"player\",\"nationality\",\"position\",\"squad\",\"age\",\"birth_year\",\"minutes_90s\",\"games\",\"minutes\",\"minutes_per_game\",\"minutes_pct\",\"games_starts\",\"minutes_per_start\",\"games_subs\",\"minutes_per_sub\",\"unused_subs\",\"points_per_match\",\"on_goals_for\",\"on_goals_against\",\"plus_minus\",\"plus_minus_per90\",\"plus_minus_wowy\",\"on_xg_for\",\"on_xg_against\",\"xg_plus_minus\",\"xg_plus_minus_per90\",\"xg_plus_minus_wowy\"]\n",
        "playingtime2 = [\"games\",\"minutes\",\"minutes_per_game\",\"minutes_pct\",\"games_starts\",\"minutes_per_start\",\"games_subs\",\"minutes_per_sub\",\"unused_subs\",\"points_per_match\",\"on_goals_for\",\"on_goals_against\",\"plus_minus\",\"plus_minus_per90\",\"plus_minus_wowy\",\"on_xg_for\",\"on_xg_against\",\"xg_plus_minus\",\"xg_plus_minus_per90\",\"xg_plus_minus_wowy\"]\n",
        "#miscallaneous(misc)\n",
        "misc = [\"player\",\"nationality\",\"position\",\"squad\",\"age\",\"birth_year\",\"minutes_90s\",\"cards_yellow\",\"cards_red\",\"cards_yellow_red\",\"fouls\",\"fouled\",\"offsides\",\"crosses\",\"interceptions\",\"tackles_won\",\"pens_won\",\"pens_conceded\",\"own_goals\",\"ball_recoveries\",\"aerials_won\",\"aerials_lost\",\"aerials_won_pct\"]\n",
        "misc2 = [\"cards_yellow\",\"cards_red\",\"cards_yellow_red\",\"fouls\",\"fouled\",\"offsides\",\"crosses\",\"interceptions\",\"tackles_won\",\"pens_won\",\"pens_conceded\",\"own_goals\",\"ball_recoveries\",\"aerials_won\",\"aerials_lost\",\"aerials_won_pct\"]"
      ],
      "execution_count": null,
      "outputs": []
    },
    {
      "cell_type": "code",
      "metadata": {
        "id": "etBqdnFGNy3u"
      },
      "source": [
        "import requests\n",
        "from bs4 import BeautifulSoup\n",
        "import pandas as pd\n",
        "import numpy as np\n",
        "import re\n",
        "import sys, getopt\n",
        "import openpyxl\n",
        "import pandas as pd \n",
        "from openpyxl.utils import get_column_letter\n",
        "from openpyxl.styles import Color, PatternFill, Font, Border\n",
        "from openpyxl.styles.differential import DifferentialStyle\n",
        "from openpyxl.formatting.rule import ColorScaleRule, CellIsRule, FormulaRule\n",
        "#import csv"
      ],
      "execution_count": null,
      "outputs": []
    },
    {
      "cell_type": "code",
      "metadata": {
        "id": "FTyWeely28Ez"
      },
      "source": [
        "# Get website info\n",
        "def get_tables(url):\n",
        "    res = requests.get(url)\n",
        "    comm = re.compile(\"<!--|-->\")\n",
        "    soup = BeautifulSoup(comm.sub(\"\",res.text),'lxml')\n",
        "    all_tables = soup.findAll(\"tbody\")\n",
        "    team_table = all_tables[0]  #might have problems here\n",
        "    player_table = all_tables[2]\n",
        "    return player_table, team_table\n"
      ],
      "execution_count": null,
      "outputs": []
    },
    {
      "cell_type": "code",
      "metadata": {
        "id": "TW689j1oN7QN"
      },
      "source": [
        "#parse outfield players data\n",
        "def get_frame(features, player_table):\n",
        "    pre_df_player = dict()\n",
        "    features_wanted_player = features\n",
        "    rows_player = player_table.find_all('tr')\n",
        "    for row in rows_player:\n",
        "        if(row.find('th',{\"scope\":\"row\"}) != None):\n",
        "    \n",
        "            for f in features_wanted_player:\n",
        "                cell = row.find(\"td\",{\"data-stat\": f})\n",
        "                a = cell.text.strip().encode()\n",
        "                text=a.decode(\"utf-8\")\n",
        "                if(text == ''):\n",
        "                    text = '0'\n",
        "                if((f!='player')&(f!='nationality')&(f!='position')&(f!='squad')&(f!='age')&(f!='birth_year')):\n",
        "                    text = float(text.replace(',',''))\n",
        "                if f in pre_df_player:\n",
        "                    pre_df_player[f].append(text)\n",
        "                else:\n",
        "                    pre_df_player[f] = [text]\n",
        "    df_player = pd.DataFrame.from_dict(pre_df_player)\n",
        "    return df_player\n",
        "\n",
        "def frame_for_category(category,top,end,features):\n",
        "    url = (top + category + end)\n",
        "    player_table, team_table = get_tables(url)\n",
        "    df_player = get_frame(features, player_table)\n",
        "    return df_player\n",
        "\n",
        "def get_outfield_data(top, end):\n",
        "    df1 = frame_for_category('stats',top,end,stats)\n",
        "    df2 = frame_for_category('shooting',top,end,shooting2)\n",
        "    df3 = frame_for_category('passing',top,end,passing2)\n",
        "    df4 = frame_for_category('passing_types',top,end,passing_types2)\n",
        "    df5 = frame_for_category('gca',top,end,gca2)\n",
        "    df6 = frame_for_category('defense',top,end,defense2)\n",
        "    df7 = frame_for_category('possession',top,end,possession2)\n",
        "    df8 = frame_for_category('misc',top,end,misc2)\n",
        "    df = pd.concat([df1, df2, df3, df4, df5, df6, df7, df8], axis=1)\n",
        "    df = df.loc[:,~df.columns.duplicated()]\n",
        "    return df"
      ],
      "execution_count": null,
      "outputs": []
    },
    {
      "cell_type": "code",
      "metadata": {
        "id": "suqZaK1mX06W"
      },
      "source": [
        "# format outfiled players data sheet\n",
        "def format_new_sheet(new_sheet):\n",
        "    '''\n",
        "    Change column title into user-friendly English title\n",
        "\n",
        "    Calculate 90% percentile for each data set\n",
        "    '''\n",
        "    new_sheet_name = new_sheet + \".xlsx\"\n",
        "    workbook2021=openpyxl.load_workbook(new_sheet_name)\n",
        "    worksheet2021=workbook2021.worksheets[0]\n",
        "    row1 = [\" \", \" \",  \" \", \" \", \" \", \" \", \" \", \"Playing Time\", \"Playing Time\", \"Playing Time\", \"Performance\", \"Performance\", \"Performance\", \"Performance\", \"Performance\", \"Per 90 Minutes\", \"Per 90 Minutes\", \"Per 90 Minutes\", \"Per 90 Minutes\", \"Per 90 Minutes\", \"Expected\", \"Expected\", \"Expected\", \"Per 90 Minutes\", \"Per 90 Minutes\", \"Per 90 Minutes\", \"Per 90 Minutes\", \"Per 90 Minutes\",\"Per 90 Minutes\", \" \", \"Standard\", \"Standard\", \"Standard\", \"Standard\", \"Standard\", \"Standard\", \"Standard\", \"Standard\", \"Expected\", \"Expected\", \"Expected\", \"Total\", \"Total\", \"Total\", \"Total\", \"Total\", \"Short\", \"Short\", \"Short\", \"Medium\", \"Medium\", \"Medium\", \"Long\", \"Long\", \"Long\", \" \", \" \",  \" \", \" \", \" \", \" \", \"Pass Types\", \"Pass Types\", \"Pass Types\", \"Pass Types\", \"Pass Types\", \"Pass Types\", \"Pass Types\", \"Pass Types\", \"Corner Kicks\", \"Corner Kicks\", \"Corner Kicks\", \"Height\", \"Height\", \"Height\", \"Body Parts\", \"Body Parts\", \"Body Parts\", \"Body Parts\", \"Body Parts\", \"Outcomes\", \"Outcomes\", \"Outcomes\", \"Outcomes\", \"SCA Types\", \"SCA Types\", \"SCA Types\", \"SCA Types\", \"SCA Types\", \"SCA Types\", \"GCA\", \"GCA Types\", \"GCA Types\", \"GCA Types\", \"GCA Types\", \"GCA Types\", \"GCA Types\", \"GCA Types\", \" \", \"Tackles\", \"Tackles\", \"Tackles\", \"Tackles\", \"Tackles\", \"Vs Dribbles\", \"Vs Dribbles\", \"Vs Dribbles\", \"Vs Dribbles\", \"Pressures\", \"Pressures\", \"Pressures\", \"Pressures\", \"Pressures\", \"Pressures\", \"Blocks\", \"Blocks\", \"Blocks\", \"Blocks\", \" \", \" \",  \" \", \"Touches\", \"Touches\", \"Touches\", \"Touches\", \"Touches\", \"Touches\", \"Touches\", \"Dribbles\", \"Dribbles\", \"Dribbles\", \"Dribbles\", \"Dribbles\", \"Carries\", \"Carries\", \"Carries\", \"Receiving\", \"Receiving\", \"Receiving\", \" \",  \" \", \"Performance\", \"Performance\", \"Performance\", \"Performance\", \"Performance\", \"Performance\", \"Performance\", \"Aerial Duels\", \"Aerial Duels\", \"Aerial Duels\", \"Aerial Duels\"]\n",
        "    row2 = [\"Rk\", \"Player\", \"Nation\", \"Pos\", \"Squad\", \"Age\", \"Born\", \"MP\", \"Starts\", \"Min\", \"Gls\", \"Ast\", \"PK\", \"PKatt\", \"CrdY\", \"CrdR\", \"Gls\", \"Ast\", \"G+A\", \"G-PK\", \"G+A-PK\", \"xG\", \"npxG\", \"xA\", \"xG\", \"xA\", \"xG+xA\", \"npxG\", \"npxG+xA\", \"90s\",\"Sh\", \"SoT\", \"FK\", \"SoT%\", \"Sh/90\", \"SoT/90\", \"G/Sh\", \"G/SoT\", \"npxG/Sh\", \"G-xG\",\"np:G-xG\", \"Cmp\", \"Att\", \"Cmp%\", \"TotDist\", \"PrgDist\", \"Cmp\", \"Att\", \"Cmp%\", \"Cmp\", \"Att\", \"Cmp%\", \"Cmp\", \"Att\", \"Cmp%\", \"A-xA\", \"KP\", \"1/3\", \"PPA\", \"CrsPA\", \"Prog\", \"Live\", \"Dead\", \"FK\", \"TB\", \"Press\", \"Sw\", \"Crs\", \"CK\", \"In\", \"Out\", \"Str\", \"Ground\", \"Low\", \"High\", \"Left\", \"Right\", \"Head\", \"TI\", \"Other\", \"Off\", \"Out\", \"Int\", \"Blocks\", \"SCA90\", \"PassLive\", \"PassDead\", \"Drib\", \"Sh\", \"Fld\", \"GCA\", \"GCA90\", \"PassLive\", \"PassDead\", \"Drib\", \"Sh\", \"Fld\", \"Def\", \"OG\", \"Tkl\", \"TklW\", \"Def 3rd\", \"Mid 3rd\", \"Att 3rd\", \"Tkl\", \"Att\", \"Tkl%\", \"Past\", \"Press\", \"Succ\", \"%\", \"Def 3rd\", \"Mid 3rd\", \"Att 3rd\", \"Blocks\", \"Sh\", \"ShSv\",\"Pass\", \"Int\", \"Clr\", \"Err\", \"Touches\", \"Def Pen\", \"Def 3rd\", \"Mid 3rd\", \"Att 3rd\", \"Att Pen\", \"Live\", \"Succ\", \"Att\", \"Succ%\", \"#Pl\", \"Megs\", \"Carries\", \"TotDist\", \"PrgDist\", \"Targ\", \"Rec\", \"Rec%\", \"Miscon\", \"Dispos\", \"2CrdY\", \"Fls\", \"Fld\", \"Off\", \"PKwon\", \"PKcon\", \"OG\", \"Recov\", \"Won\", \"Lost\", \"Won%\"]\n",
        "    \n",
        "    #change title\n",
        "    for i in range(len(row1)):\n",
        "        if row1[i] == \" \":\n",
        "            combo = row2[i]\n",
        "        else:\n",
        "            combo = row2[i]+\" (\"+row1[i]+\")\"\n",
        "        worksheet2021.cell(1, i+1, combo)    \n",
        "    worksheet2021.delete_cols(1,1)      \n",
        "    worksheet2021.insert_rows(0)\n",
        "    worksheet2021.insert_rows(1)\n",
        "    #add column number, calculate 90% percentile value \n",
        "    for k in range(len(row1)-1):\n",
        "        worksheet2021.cell(1, k+1, str(k+1))\n",
        "        worksheet2021.column_dimensions[get_column_letter(k+1)].width = 20\n",
        "        if k <= 4:\n",
        "            worksheet2021.cell(2, k+1, \"-\")\n",
        "        elif k == 5: \n",
        "            worksheet2021.cell(2, k+1, '90 percentile')\n",
        "        else:\n",
        "            column = []\n",
        "            for n in range(4, 477):\n",
        "                column.append(float(worksheet2021.cell(n, k+1).value))\n",
        "            columnn = np.array(column)\n",
        "            percentile = np.percentile(columnn, 90)\n",
        "            worksheet2021.cell(2, k+1, percentile)\n",
        "    \n",
        "    workbook2021.save(filename = new_sheet + \".xlsx\")"
      ],
      "execution_count": null,
      "outputs": []
    },
    {
      "cell_type": "code",
      "metadata": {
        "id": "UHaHw2XS3JF5"
      },
      "source": [
        "#parse goalkeeper data\n",
        "def get_keeper_data(top,end):\n",
        "    df1 = frame_for_category('keepers',top,end,keepers)\n",
        "    df2 = frame_for_category('keepersadv',top,end,keepersadv2)\n",
        "    df = pd.concat([df1, df2], axis=1)\n",
        "    df = df.loc[:,~df.columns.duplicated()]\n",
        "    return df"
      ],
      "execution_count": null,
      "outputs": []
    },
    {
      "cell_type": "code",
      "metadata": {
        "id": "E5xcTBAN_vW1"
      },
      "source": [
        "#Parse team data\n",
        "def get_frame_team(features, team_table):\n",
        "    pre_df_squad = dict()\n",
        "    #Note: features does not contain squad name, it requires special treatment\n",
        "    features_wanted_squad = features\n",
        "    rows_squad = team_table.find_all('tr')\n",
        "    for row in rows_squad:\n",
        "        if(row.find('th',{\"scope\":\"row\"}) != None):\n",
        "            name = row.find('th',{\"data-stat\":\"squad\"}).text.strip().encode().decode(\"utf-8\")\n",
        "            if 'squad' in pre_df_squad:\n",
        "                pre_df_squad['squad'].append(name)\n",
        "            else:\n",
        "                pre_df_squad['squad'] = [name]\n",
        "            for f in features_wanted_squad:\n",
        "                cell = row.find(\"td\",{\"data-stat\": f})\n",
        "                a = cell.text.strip().encode()\n",
        "                text=a.decode(\"utf-8\")\n",
        "                if(text == ''):\n",
        "                    text = '0'\n",
        "                if((f!='player')&(f!='nationality')&(f!='position')&(f!='squad')&(f!='age')&(f!='birth_year')):\n",
        "                    text = float(text.replace(',',''))\n",
        "                if f in pre_df_squad:\n",
        "                    pre_df_squad[f].append(text)\n",
        "                else:\n",
        "                    pre_df_squad[f] = [text]\n",
        "    df_squad = pd.DataFrame.from_dict(pre_df_squad)\n",
        "    return df_squad\n",
        "\n",
        "def frame_for_category_team(category,top,end,features):\n",
        "    url = (top + category + end)\n",
        "    player_table, team_table = get_tables(url)\n",
        "    df_team = get_frame_team(features, team_table)\n",
        "    return df_team\n",
        "\n",
        "def get_team_data(top,end):\n",
        "    df1 = frame_for_category_team('stats',top,end,stats3)\n",
        "    df2 = frame_for_category_team('keepers',top,end,keepers3)\n",
        "    df3 = frame_for_category_team('keepersadv',top,end,keepersadv2)\n",
        "    df4 = frame_for_category_team('shooting',top,end,shooting3)\n",
        "    df5 = frame_for_category_team('passing',top,end,passing2)\n",
        "    df6 = frame_for_category_team('passing_types',top,end,passing_types2)\n",
        "    df7 = frame_for_category_team('gca',top,end,gca2)\n",
        "    df8 = frame_for_category_team('defense',top,end,defense2)\n",
        "    df9 = frame_for_category_team('possession',top,end,possession2)\n",
        "    df10 = frame_for_category_team('misc',top,end,misc2)\n",
        "    df = pd.concat([df1, df2, df3, df4, df5, df6, df7, df8, df9, df10], axis=1)\n",
        "    df = df.loc[:,~df.columns.duplicated()]\n",
        "    return df"
      ],
      "execution_count": null,
      "outputs": []
    },
    {
      "cell_type": "code",
      "metadata": {
        "id": "rbcxdHCke_JQ"
      },
      "source": [
        "def combine_worksheet (old_sheet, new_sheet):\n",
        "    '''\n",
        "    Creative combined comparitive data sheet with latest data & last season data.\n",
        "\n",
        "    Color code legend:\n",
        "    blue: value is  higher than 90% percentile in the league.\n",
        "    green(developing): value is of top 3 in the squad.\n",
        "    '''\n",
        "    workbook2021=openpyxl.load_workbook(new_sheet)\n",
        "    ws2021=workbook2021.worksheets[0]    \n",
        "    workbook1920=openpyxl.load_workbook(old_sheet)\n",
        "    ws1920=workbook1920.worksheets[0]    \n",
        "    newl = ws2021.max_row   #starting from 1!\n",
        "    oldl = ws1920.max_row    \n",
        "    all_name = []\n",
        "    for i in range(oldl):\n",
        "        row = i+1\n",
        "        if row > 3:\n",
        "            name = ws1920.cell(row, 1).value\n",
        "            all_name.append(name)\n",
        "    #combine two data sets\n",
        "    for j in range (newl+476):\n",
        "        rown = j+1\n",
        "        name = ws2021.cell(rown, 1).value\n",
        "        if name in all_name:\n",
        "            ind = all_name.index(name)\n",
        "            ws2021.insert_rows(rown+1)\n",
        "            new_row = ws1920[\"A\"+str(ind+4): \"EV\"+str(ind+4)]\n",
        "            for k in range(1,152):\n",
        "                if k == 1 or k == 5 or k == 6:\n",
        "                    ws2021.cell(rown+1, k, '-')\n",
        "                elif k == 2:\n",
        "                    ws2021.cell(rown+1, k, \"19-20\")\n",
        "                else: \n",
        "                    ws2021.cell(rown+1, k, new_row[0][k-1].value)\n",
        "    \n",
        "    #color code data sheet with conditional formatting\n",
        "    blueFill = PatternFill(start_color='B7DEE8',end_color='B7DEE8',fill_type='solid')\n",
        "    greenFill = PatternFill(start_color='D8E4BC', end_color='D8E4BC', fill_type='solid')\n",
        "\n",
        "    for k in range (7, 152):\n",
        "      letter = get_column_letter(k)\n",
        "      ranger = letter+'4:'+letter+'885'\n",
        "      compared = letter+'$2'\n",
        "      ws2021.conditional_formatting.add(ranger, CellIsRule(operator='greaterThan', formula=[compared], stopIfTrue=True, fill=blueFill))\n",
        "    \n",
        "    return workbook2021"
      ],
      "execution_count": null,
      "outputs": []
    },
    {
      "cell_type": "markdown",
      "metadata": {
        "id": "jjS04ui2Yntp"
      },
      "source": [
        "# 操作方法\n",
        "\n",
        "进行任何操作之前，请先将光标移动至本单元格。\n",
        "\n",
        "在上方菜单选择\"代码执行程序\" -> \"运行当前单元格之前的所有单元格\"\n",
        "\n",
        "运行完成后，可利用左侧目录栏快速定位选择所需联赛，并按描述操作程序运行生成表格数据。\n",
        "\n"
      ]
    },
    {
      "cell_type": "markdown",
      "metadata": {
        "id": "U7PMPPmmqIke"
      },
      "source": [
        "# Change Log\n",
        "\n",
        "Feb13, 2021\n",
        "*   赛季新表格及合并表格： 生成表格时在第二行自动计算90% percentile\n",
        "*   仅合并表格： 更新条件格式：生成表格时将高于90% percentile的单元格上色为蓝色\n",
        "\n",
        "Feb20, 2021\n",
        "*   意甲，法甲最新数据抓取，并生成本赛季数据表格\n",
        "*   90% percentile功能修复一些小bug\n",
        "\n",
        "Mar08, 2021\n",
        "*   修复因网站改版引起的bug\n",
        "\n",
        "Mar21, 2021\n",
        "*   增加德甲最新数据抓取，并生成本赛季数据表格\n",
        "\n",
        "\n",
        "\n",
        "\n",
        "\n"
      ]
    },
    {
      "cell_type": "markdown",
      "metadata": {
        "id": "2alT-hGpZak1"
      },
      "source": [
        "# EPL"
      ]
    },
    {
      "cell_type": "markdown",
      "metadata": {
        "id": "EvNcP7aiNqnN"
      },
      "source": [
        "## 1）运行此单元格抓取最新本赛季数据，并生成表格 “EPL_2021_外场球员.xlsx”\n",
        "\n",
        "\n",
        "运行完成后会显示 \"EPL_2021_外场球员.xlsx\" generated! \n",
        "\n",
        "\n",
        "coming soon: 抓取最新数据，并生成表格“EPL2021_守门员.xlsx”, \"EPL2021_球队.xlsx\"\n",
        "\n"
      ]
    },
    {
      "cell_type": "code",
      "metadata": {
        "id": "lQVJlnN_OAky",
        "colab": {
          "base_uri": "https://localhost:8080/"
        },
        "outputId": "f0e921f9-bfd2-4f84-c9b1-4052961c01fa"
      },
      "source": [
        "\n",
        "df_outfield_EPL = get_outfield_data('https://fbref.com/en/comps/9/','/Premier-League-Stats') \n",
        "df_outfield_EPL.to_excel(\"EPL_2021_外场球员.xlsx\")\n",
        "format_new_sheet(\"EPL_2021_外场球员\")\n",
        "print('\"EPL_2021_外场球员.xlsx\" generated! ')\n",
        "\n",
        "#df_keeper_EPL = get_keeper_data('https://fbref.com/en/comps/9/','/Premier-League-Stats')\n",
        "#df_keeper_EPL.to_excel('EPL2021_守门员.xlsx')\n",
        "\n",
        "#df_team_EPL = get_team_data('https://fbref.com/en/comps/9/','/Premier-League-Stats')\n",
        "#df_team_EPL.to_excel('EPL2021_球队.xlsx')\n"
      ],
      "execution_count": null,
      "outputs": [
        {
          "output_type": "stream",
          "text": [
            "\"EPL_2021_外场球员.xlsx\" generated! \n"
          ],
          "name": "stdout"
        }
      ]
    },
    {
      "cell_type": "markdown",
      "metadata": {
        "id": "1TqPKbUMN__2"
      },
      "source": [
        "## 2）运行此单元格与19-20赛季表格合并，生成两赛季对比表格“EPL_2021_外场球员_combine.xlsx”\n",
        "\n",
        "若要获取合并数据，需先完成 EPL-1) 下的运行操作！\n",
        "\n",
        "\n",
        "目前代码有待优化，运行速度较慢，需等待约3min。（点击运行后保持网页打开状态即可，不需要一直停留在此网页等待，程序完成运行后会显示 \"EPL_2021_外场球员_combine.xlsx\" generated !）"
      ]
    },
    {
      "cell_type": "code",
      "metadata": {
        "colab": {
          "base_uri": "https://localhost:8080/"
        },
        "id": "SavSaNlfgrdH",
        "outputId": "4a5d813f-74ee-4903-8379-db7cf8feaa6e"
      },
      "source": [
        "# Fetch a single <1MB file using the raw GitHub URL.\n",
        "!curl --remote-name \\\n",
        "     -H 'Accept: application/vnd.github.v3.raw' \\\n",
        "     --location https://github.com/Azure-107/scrape_fbref/raw/main/1920_outfield_players.xlsx\n",
        "\n",
        "#combine sheets\n",
        "\n",
        "df_combined = combine_worksheet (\"1920_outfield_players.xlsx\", \"EPL_2021_外场球员.xlsx\")\n",
        "df_combined.save(\"EPL_2021_外场球员_combine.xlsx\")\n",
        "print('\"EPL_2021_外场球员_combine.xlsx\" generated! ')"
      ],
      "execution_count": null,
      "outputs": [
        {
          "output_type": "stream",
          "text": [
            "  % Total    % Received % Xferd  Average Speed   Time    Time     Time  Current\n",
            "                                 Dload  Upload   Total   Spent    Left  Speed\n",
            "100   154  100   154    0     0   2905      0 --:--:-- --:--:-- --:--:--  2905\n",
            "100 2052k  100 2052k    0     0  4241k      0 --:--:-- --:--:-- --:--:-- 9281k\n",
            "\"EPL_2021_外场球员_combine.xlsx\" generated! \n"
          ],
          "name": "stdout"
        }
      ]
    },
    {
      "cell_type": "markdown",
      "metadata": {
        "id": "DAUbU1u0Nkyu"
      },
      "source": [
        "# La Liga\n",
        "\n",
        "操作方式大致与EPL相同"
      ]
    },
    {
      "cell_type": "markdown",
      "metadata": {
        "id": "fmoShap4kJ45"
      },
      "source": [
        "## 1）运行此单元格抓取最新本赛季数据，并生成表格 “LaLiga_2021_外场球员.xlsx”\n",
        "\n",
        "运行完成后会显示 \"LaLiga_2021_外场球员.xlsx\" generated! \n",
        "\n",
        "coming soon: 抓取最新数据，并生成表格“LaLiga2021_守门员.xlsx”, \"LaLiga2021_球队.xlsx\""
      ]
    },
    {
      "cell_type": "code",
      "metadata": {
        "id": "pemlTgDFRo_O",
        "colab": {
          "base_uri": "https://localhost:8080/"
        },
        "outputId": "fe6ead6e-f362-4a48-e223-557895bd3177"
      },
      "source": [
        "#La Liga\n",
        "df_outfield_Liga = get_outfield_data('https://fbref.com/en/comps/12/','/La-Liga-Stats')\n",
        "df_outfield_Liga.to_excel('LaLiga_2021_外场球员.xlsx')\n",
        "format_new_sheet(\"LaLiga_2021_外场球员\")\n",
        "print('\"LaLiga_2021_外场球员.xlsx\" generated! ')\n",
        "\n",
        "#df_keeper_Liga = get_keeper_data('https://fbref.com/en/comps/12/','/La-Liga-Stats')\n",
        "#df_keeper_Liga.to_excel('La_Liga2021_守门员.xlsx')\n",
        "\n",
        "#df_team_Liga = get_team_data('https://fbref.com/en/comps/12/','/La-Liga-Stats')\n",
        "#df_team_Liga.to_excel('La_Liga2021_球队。xlsx')"
      ],
      "execution_count": null,
      "outputs": [
        {
          "output_type": "stream",
          "text": [
            "\"LaLiga_2021_外场球员.xlsx\" generated! \n"
          ],
          "name": "stdout"
        }
      ]
    },
    {
      "cell_type": "markdown",
      "metadata": {
        "id": "BshQLdjUlZuY"
      },
      "source": [
        "## Coming Soon: La Liga 两赛季比较表格合并"
      ]
    },
    {
      "cell_type": "markdown",
      "metadata": {
        "id": "KFHYQT5_q-rn"
      },
      "source": [
        "# Serie A"
      ]
    },
    {
      "cell_type": "markdown",
      "metadata": {
        "id": "9bDbr6L0xJYP"
      },
      "source": [
        "## 1）运行此单元格抓取最新本赛季数据，并生成表格 “SerieA_2021_外场球员.xlsx”\n",
        "\n",
        "运行完成后会显示 \"SerieA_2021_外场球员.xlsx\" generated! \n",
        "\n",
        "coming soon: 抓取最新数据，并生成表格“SerieA2021_守门员.xlsx”, \"SerieA2021_球队.xlsx\""
      ]
    },
    {
      "cell_type": "code",
      "metadata": {
        "colab": {
          "base_uri": "https://localhost:8080/"
        },
        "id": "mb2jijWYxVev",
        "outputId": "6bb58d5e-5b6d-4d79-cf26-3e4b03da3450"
      },
      "source": [
        "#Serie A\n",
        "df_outfield_serie = get_outfield_data('https://fbref.com/en/comps/11/','/Serie-A-Stats')\n",
        "df_outfield_serie.to_excel('SerieA_2021_外场球员.xlsx')\n",
        "format_new_sheet(\"SerieA_2021_外场球员\")\n",
        "print('\"SerieA_外场球员.xlsx\" generated! ')"
      ],
      "execution_count": null,
      "outputs": [
        {
          "output_type": "stream",
          "text": [
            "\"SerieA_外场球员.xlsx\" generated! \n"
          ],
          "name": "stdout"
        }
      ]
    },
    {
      "cell_type": "markdown",
      "metadata": {
        "id": "7TcTCoU3zCtB"
      },
      "source": [
        "# Ligue 1"
      ]
    },
    {
      "cell_type": "markdown",
      "metadata": {
        "id": "pel8tLDazIPx"
      },
      "source": [
        "## 1）运行此单元格抓取最新本赛季数据，并生成表格 “Ligue1_2021_外场球员.xlsx”\n",
        "\n",
        "运行完成后会显示 \"Ligue1_2021_外场球员.xlsx\" generated!\n",
        "\n",
        "coming soon: 抓取最新数据，并生成表格“Ligue1_2021_守门员.xlsx”, \"Ligue1_2021_球队.xlsx\""
      ]
    },
    {
      "cell_type": "code",
      "metadata": {
        "colab": {
          "base_uri": "https://localhost:8080/"
        },
        "id": "cs04fD37zYRI",
        "outputId": "a8463402-2241-4748-f527-be8ce38a4639"
      },
      "source": [
        "# Ligue 1\n",
        "df_outfield_Ligue1 = get_outfield_data('https://fbref.com/en/comps/13/','/Ligue-1-Stats')\n",
        "df_outfield_Ligue1.to_excel('Ligue1_2021_外场球员.xlsx')\n",
        "format_new_sheet(\"Ligue1_2021_外场球员\")\n",
        "print('\"Ligue1_外场球员.xlsx\" generated! ')"
      ],
      "execution_count": null,
      "outputs": [
        {
          "output_type": "stream",
          "text": [
            "\"Ligue1_外场球员.xlsx\" generated! \n"
          ],
          "name": "stdout"
        }
      ]
    },
    {
      "cell_type": "markdown",
      "metadata": {
        "id": "OroQzU000tEd"
      },
      "source": [
        "# Bundesliga\n"
      ]
    },
    {
      "cell_type": "markdown",
      "metadata": {
        "id": "ITV8AKeD04QH"
      },
      "source": [
        "## 1）运行此单元格抓取最新本赛季数据，并生成表格 “Bundesliga_2021_外场球员.xlsx”\n",
        "\n",
        "运行完成后会显示 \"Bundesliga_2021_外场球员.xlsx\" generated!\n",
        "\n",
        "coming soon: 抓取最新数据，并生成表格“Bundesliga_2021_守门员.xlsx”, \"Bundesliga_2021_球队.xlsx\"\n",
        "\n"
      ]
    },
    {
      "cell_type": "code",
      "metadata": {
        "id": "W3QGEy8b1EIM",
        "colab": {
          "base_uri": "https://localhost:8080/"
        },
        "outputId": "2b9e8390-0388-47bd-c62c-7293c518b380"
      },
      "source": [
        "# Bundesliga\n",
        "df_outfield_Bundesliga = get_outfield_data('https://fbref.com/en/comps/20/','/Bundesliga-Stats')\n",
        "df_outfield_Bundesliga.to_excel('Bundesliga_2021_外场球员.xlsx')\n",
        "format_new_sheet(\"Bundesliga_2021_外场球员\")\n",
        "print('\"Bundesliga_外场球员.xlsx\" generated! ')"
      ],
      "execution_count": null,
      "outputs": [
        {
          "output_type": "stream",
          "text": [
            "\"Bundesliga_外场球员.xlsx\" generated! \n"
          ],
          "name": "stdout"
        }
      ]
    },
    {
      "cell_type": "markdown",
      "metadata": {
        "id": "13ozL8BElPZ7"
      },
      "source": [
        "# Coming Soon:  西甲，意甲，德甲，法甲的两赛季比较表格"
      ]
    }
  ]
}